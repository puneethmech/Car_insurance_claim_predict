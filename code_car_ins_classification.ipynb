{
 "cells": [
  {
   "cell_type": "markdown",
   "id": "c7881cb7",
   "metadata": {},
   "source": [
    "# Care insurance Claim predict"
   ]
  },
  {
   "cell_type": "markdown",
   "id": "e6987896",
   "metadata": {},
   "source": [
    "Objective of this Hackathon is to predict the outcome of the members if his is going to apply for car insurance claim based on the sample claims."
   ]
  },
  {
   "cell_type": "code",
   "execution_count": 94,
   "id": "5250bc7f",
   "metadata": {},
   "outputs": [],
   "source": [
    "# import all the libs for Prediction\n",
    "#loading dataset\n",
    "import pandas as pd\n",
    "import numpy as np\n",
    "#visualisation\n",
    "import matplotlib.pyplot as plt\n",
    "%matplotlib inline\n",
    "import seaborn as sns\n",
    "#EDA\n",
    "from collections import Counter\n",
    "import pandas_profiling as pp\n",
    "# data preprocessing\n",
    "from sklearn.preprocessing import StandardScaler\n",
    "# data splitting\n",
    "from sklearn.model_selection import train_test_split\n",
    "# data modeling\n",
    "from sklearn.metrics import confusion_matrix,accuracy_score,roc_curve,classification_report\n",
    "from sklearn.linear_model import LogisticRegression\n",
    "from sklearn.naive_bayes import GaussianNB\n",
    "from xgboost import XGBClassifier\n",
    "from sklearn.ensemble import RandomForestClassifier\n",
    "from sklearn.tree import DecisionTreeClassifier\n",
    "from sklearn.neighbors import KNeighborsClassifier\n",
    "from sklearn.naive_bayes import GaussianNB\n",
    "from sklearn.svm import SVC\n",
    "#ensembling\n",
    "from mlxtend.classifier import StackingCVClassifier"
   ]
  },
  {
   "cell_type": "code",
   "execution_count": 95,
   "id": "5118fc64",
   "metadata": {},
   "outputs": [],
   "source": [
    "# import data set\n",
    "\n",
    "## import data sets\n",
    "\n",
    "df_sample_sub = pd.read_csv('sample_submission_KvRh9Sx.csv')\n",
    "df_test=pd.read_csv('test_zo1G9sv.csv')\n",
    "df_train=pd.read_csv('train_qWM28Yl.csv')\n",
    "#df_train_upd=pd.read_csv('train_updates_20220929.csv')"
   ]
  },
  {
   "cell_type": "code",
   "execution_count": 96,
   "id": "1ab4d251",
   "metadata": {
    "scrolled": true
   },
   "outputs": [],
   "source": [
    "# perform EDA on Training data set\n",
    "\n",
    "#df_train.loc[df_train['area_cluster'] == 'C1', 'area_cluster'] = '0' \n",
    "#data.loc[data['ExerciseAngina'] == 'Y', 'ExerciseAngina'] = '1' \n",
    "\n",
    "\n",
    "df_train.loc[df_train['area_cluster'] =='C1', 'area_cluster'] ='0'\n",
    "df_train.loc[df_train['area_cluster'] =='C2', 'area_cluster'] ='1'\n",
    "df_train.loc[df_train['area_cluster'] =='C3', 'area_cluster'] ='2'\n",
    "df_train.loc[df_train['area_cluster'] =='C4', 'area_cluster'] ='3'\n",
    "df_train.loc[df_train['area_cluster'] =='C5', 'area_cluster'] ='4'\n",
    "df_train.loc[df_train['area_cluster'] =='C6', 'area_cluster'] ='5'\n",
    "df_train.loc[df_train['area_cluster'] =='C7', 'area_cluster'] ='6'\n",
    "df_train.loc[df_train['area_cluster'] =='C8', 'area_cluster'] ='7'\n",
    "df_train.loc[df_train['area_cluster'] =='C9', 'area_cluster'] ='8'\n",
    "df_train.loc[df_train['area_cluster'] =='C10', 'area_cluster'] ='9'\n",
    "df_train.loc[df_train['area_cluster'] =='C11', 'area_cluster'] ='10'\n",
    "df_train.loc[df_train['area_cluster'] =='C12', 'area_cluster'] ='11'\n",
    "df_train.loc[df_train['area_cluster'] =='C13', 'area_cluster'] ='12'\n",
    "df_train.loc[df_train['area_cluster'] =='C14', 'area_cluster'] ='13'\n",
    "df_train.loc[df_train['area_cluster'] =='C15', 'area_cluster'] ='14'\n",
    "df_train.loc[df_train['area_cluster'] =='C16', 'area_cluster'] ='15'\n",
    "df_train.loc[df_train['area_cluster'] =='C17', 'area_cluster'] ='16'\n",
    "df_train.loc[df_train['area_cluster'] =='C18', 'area_cluster'] ='17'\n",
    "df_train.loc[df_train['area_cluster'] =='C19', 'area_cluster'] ='18'\n",
    "df_train.loc[df_train['area_cluster'] =='C20', 'area_cluster'] ='19'\n",
    "df_train.loc[df_train['area_cluster'] =='C21', 'area_cluster'] ='20'\n",
    "df_train.loc[df_train['area_cluster'] =='C22', 'area_cluster'] ='21'\n",
    "\n",
    "df_train.loc[df_train['segment'] =='A', 'segment'] = 0\n",
    "df_train.loc[df_train['segment'] =='C1', 'segment'] = 1\n",
    "df_train.loc[df_train['segment'] =='C2', 'segment'] = 2\n",
    "df_train.loc[df_train['segment'] =='B2', 'segment'] = 3\n",
    "df_train.loc[df_train['segment'] =='B1', 'segment'] = 4\n",
    "df_train.loc[df_train['segment'] =='Utility', 'segment'] = 5\n",
    "\n",
    "\n",
    "df_train.loc[df_train['is_parking_sensors'] =='No', 'is_parking_sensors'] = 0\n",
    "df_train.loc[df_train['is_parking_sensors'] =='Yes', 'is_parking_sensors'] = 1\n",
    "\n",
    "df_train.loc[df_train['is_parking_camera'] =='No', 'is_parking_camera'] = 0\n",
    "df_train.loc[df_train['is_parking_camera'] =='Yes', 'is_parking_camera'] = 1\n",
    "\n",
    "\n",
    "df_train.loc[df_train['is_brake_assist'] =='No', 'is_brake_assist'] = 0\n",
    "df_train.loc[df_train['is_brake_assist'] =='Yes', 'is_brake_assist'] = 1\n",
    "df_train.loc[df_train['is_speed_alert'] =='No', 'is_speed_alert'] = 0\n",
    "df_train.loc[df_train['is_speed_alert'] =='Yes', 'is_speed_alert'] = 1\n",
    "df_train.loc[df_train['is_front_fog_lights'] =='No', 'is_front_fog_lights'] = 0\n",
    "df_train.loc[df_train['is_front_fog_lights'] =='Yes', 'is_front_fog_lights'] = 1\n",
    "\n",
    "\n",
    "\n",
    "\n",
    "df_train = df_train[['is_brake_assist','is_speed_alert','is_front_fog_lights','policy_tenure','age_of_car','age_of_policyholder',\n",
    "                     'area_cluster', 'segment','airbags','is_parking_sensors','is_parking_camera','is_claim']]\n",
    "\n",
    "\n",
    "df_train = df_train.astype(float)\n",
    "\n",
    "\n",
    "#df_train.profile_report()"
   ]
  },
  {
   "cell_type": "code",
   "execution_count": 98,
   "id": "b9f91ac9",
   "metadata": {},
   "outputs": [],
   "source": [
    "df_test.loc[df_test['area_cluster'] =='C1', 'area_cluster'] ='0'\n",
    "df_test.loc[df_test['area_cluster'] =='C2', 'area_cluster'] ='1'\n",
    "df_test.loc[df_test['area_cluster'] =='C3', 'area_cluster'] ='2'\n",
    "df_test.loc[df_test['area_cluster'] =='C4', 'area_cluster'] ='3'\n",
    "df_test.loc[df_test['area_cluster'] =='C5', 'area_cluster'] ='4'\n",
    "df_test.loc[df_test['area_cluster'] =='C6', 'area_cluster'] ='5'\n",
    "df_test.loc[df_test['area_cluster'] =='C7', 'area_cluster'] ='6'\n",
    "df_test.loc[df_test['area_cluster'] =='C8', 'area_cluster'] ='7'\n",
    "df_test.loc[df_test['area_cluster'] =='C9', 'area_cluster'] ='8'\n",
    "df_test.loc[df_test['area_cluster'] =='C10', 'area_cluster'] ='9'\n",
    "df_test.loc[df_test['area_cluster'] =='C11', 'area_cluster'] ='10'\n",
    "df_test.loc[df_test['area_cluster'] =='C12', 'area_cluster'] ='11'\n",
    "df_test.loc[df_test['area_cluster'] =='C13', 'area_cluster'] ='12'\n",
    "df_test.loc[df_test['area_cluster'] =='C14', 'area_cluster'] ='13'\n",
    "df_test.loc[df_test['area_cluster'] =='C15', 'area_cluster'] ='14'\n",
    "df_test.loc[df_test['area_cluster'] =='C16', 'area_cluster'] ='15'\n",
    "df_test.loc[df_test['area_cluster'] =='C17', 'area_cluster'] ='16'\n",
    "df_test.loc[df_test['area_cluster'] =='C18', 'area_cluster'] ='17'\n",
    "df_test.loc[df_test['area_cluster'] =='C19', 'area_cluster'] ='18'\n",
    "df_test.loc[df_test['area_cluster'] =='C20', 'area_cluster'] ='19'\n",
    "df_test.loc[df_test['area_cluster'] =='C21', 'area_cluster'] ='20'\n",
    "df_test.loc[df_test['area_cluster'] =='C22', 'area_cluster'] ='21'\n",
    "\n",
    "df_test.loc[df_test['segment'] =='A', 'segment'] = 0\n",
    "df_test.loc[df_test['segment'] =='C1', 'segment'] = 1\n",
    "df_test.loc[df_test['segment'] =='C2', 'segment'] = 2\n",
    "df_test.loc[df_test['segment'] =='B2', 'segment'] = 3\n",
    "df_test.loc[df_test['segment'] =='B1', 'segment'] = 4\n",
    "df_test.loc[df_test['segment'] =='Utility', 'segment'] = 5\n",
    "\n",
    "\n",
    "df_test.loc[df_test['is_parking_sensors'] =='No', 'is_parking_sensors'] = 0\n",
    "df_test.loc[df_test['is_parking_sensors'] =='Yes', 'is_parking_sensors'] = 1\n",
    "\n",
    "df_test.loc[df_test['is_parking_camera'] =='No', 'is_parking_camera'] = 0\n",
    "df_test.loc[df_test['is_parking_camera'] =='Yes', 'is_parking_camera'] = 1\n",
    "\n",
    "df_test.loc[df_test['is_brake_assist'] =='No', 'is_brake_assist'] = 0\n",
    "df_test.loc[df_test['is_brake_assist'] =='Yes', 'is_brake_assist'] = 1\n",
    "df_test.loc[df_test['is_speed_alert'] =='No', 'is_speed_alert'] = 0\n",
    "df_test.loc[df_test['is_speed_alert'] =='Yes', 'is_speed_alert'] = 1\n",
    "df_test.loc[df_test['is_front_fog_lights'] =='No', 'is_front_fog_lights'] = 0\n",
    "df_test.loc[df_test['is_front_fog_lights'] =='Yes', 'is_front_fog_lights'] = 1\n",
    "\n",
    "\n",
    "df_test = df_test[['is_brake_assist','is_speed_alert','is_front_fog_lights','policy_tenure','age_of_car','age_of_policyholder','area_cluster', 'segment','airbags'\n",
    "                  ,'is_parking_sensors','is_parking_camera']]\n",
    "\n",
    "df_test = df_test.astype(float)"
   ]
  },
  {
   "cell_type": "code",
   "execution_count": 99,
   "id": "01719a59",
   "metadata": {
    "scrolled": true
   },
   "outputs": [
    {
     "data": {
      "text/plain": [
       "is_brake_assist        float64\n",
       "is_speed_alert         float64\n",
       "is_front_fog_lights    float64\n",
       "policy_tenure          float64\n",
       "age_of_car             float64\n",
       "age_of_policyholder    float64\n",
       "area_cluster           float64\n",
       "segment                float64\n",
       "airbags                float64\n",
       "is_parking_sensors     float64\n",
       "is_parking_camera      float64\n",
       "is_claim               float64\n",
       "dtype: object"
      ]
     },
     "execution_count": 99,
     "metadata": {},
     "output_type": "execute_result"
    }
   ],
   "source": [
    "#sns.pairplot(df_train);\n",
    "\n",
    "df_train.dtypes"
   ]
  },
  {
   "cell_type": "code",
   "execution_count": 100,
   "id": "9e36180c",
   "metadata": {
    "scrolled": true
   },
   "outputs": [],
   "source": [
    "#sns.pairplot(df_train, hue=\"is_claim\")"
   ]
  },
  {
   "cell_type": "code",
   "execution_count": 101,
   "id": "eee5a0a8",
   "metadata": {},
   "outputs": [
    {
     "data": {
      "text/html": [
       "<div>\n",
       "<style scoped>\n",
       "    .dataframe tbody tr th:only-of-type {\n",
       "        vertical-align: middle;\n",
       "    }\n",
       "\n",
       "    .dataframe tbody tr th {\n",
       "        vertical-align: top;\n",
       "    }\n",
       "\n",
       "    .dataframe thead th {\n",
       "        text-align: right;\n",
       "    }\n",
       "</style>\n",
       "<table border=\"1\" class=\"dataframe\">\n",
       "  <thead>\n",
       "    <tr style=\"text-align: right;\">\n",
       "      <th></th>\n",
       "      <th>is_brake_assist</th>\n",
       "      <th>is_speed_alert</th>\n",
       "      <th>is_front_fog_lights</th>\n",
       "      <th>policy_tenure</th>\n",
       "      <th>age_of_car</th>\n",
       "      <th>age_of_policyholder</th>\n",
       "      <th>area_cluster</th>\n",
       "      <th>segment</th>\n",
       "      <th>airbags</th>\n",
       "      <th>is_parking_sensors</th>\n",
       "      <th>is_parking_camera</th>\n",
       "      <th>is_claim</th>\n",
       "    </tr>\n",
       "  </thead>\n",
       "  <tbody>\n",
       "    <tr>\n",
       "      <th>0</th>\n",
       "      <td>0.0</td>\n",
       "      <td>1.0</td>\n",
       "      <td>0.0</td>\n",
       "      <td>0.515874</td>\n",
       "      <td>0.05</td>\n",
       "      <td>0.644231</td>\n",
       "      <td>0.0</td>\n",
       "      <td>0.0</td>\n",
       "      <td>2.0</td>\n",
       "      <td>1.0</td>\n",
       "      <td>0.0</td>\n",
       "      <td>0.0</td>\n",
       "    </tr>\n",
       "    <tr>\n",
       "      <th>1</th>\n",
       "      <td>0.0</td>\n",
       "      <td>1.0</td>\n",
       "      <td>0.0</td>\n",
       "      <td>0.672619</td>\n",
       "      <td>0.02</td>\n",
       "      <td>0.375000</td>\n",
       "      <td>1.0</td>\n",
       "      <td>0.0</td>\n",
       "      <td>2.0</td>\n",
       "      <td>1.0</td>\n",
       "      <td>0.0</td>\n",
       "      <td>0.0</td>\n",
       "    </tr>\n",
       "    <tr>\n",
       "      <th>2</th>\n",
       "      <td>0.0</td>\n",
       "      <td>1.0</td>\n",
       "      <td>0.0</td>\n",
       "      <td>0.841110</td>\n",
       "      <td>0.02</td>\n",
       "      <td>0.384615</td>\n",
       "      <td>2.0</td>\n",
       "      <td>0.0</td>\n",
       "      <td>2.0</td>\n",
       "      <td>1.0</td>\n",
       "      <td>0.0</td>\n",
       "      <td>0.0</td>\n",
       "    </tr>\n",
       "    <tr>\n",
       "      <th>3</th>\n",
       "      <td>1.0</td>\n",
       "      <td>1.0</td>\n",
       "      <td>1.0</td>\n",
       "      <td>0.900277</td>\n",
       "      <td>0.11</td>\n",
       "      <td>0.432692</td>\n",
       "      <td>3.0</td>\n",
       "      <td>1.0</td>\n",
       "      <td>2.0</td>\n",
       "      <td>1.0</td>\n",
       "      <td>1.0</td>\n",
       "      <td>0.0</td>\n",
       "    </tr>\n",
       "    <tr>\n",
       "      <th>4</th>\n",
       "      <td>0.0</td>\n",
       "      <td>1.0</td>\n",
       "      <td>0.0</td>\n",
       "      <td>0.596403</td>\n",
       "      <td>0.11</td>\n",
       "      <td>0.634615</td>\n",
       "      <td>4.0</td>\n",
       "      <td>0.0</td>\n",
       "      <td>2.0</td>\n",
       "      <td>0.0</td>\n",
       "      <td>1.0</td>\n",
       "      <td>0.0</td>\n",
       "    </tr>\n",
       "  </tbody>\n",
       "</table>\n",
       "</div>"
      ],
      "text/plain": [
       "   is_brake_assist  is_speed_alert  is_front_fog_lights  policy_tenure  \\\n",
       "0              0.0             1.0                  0.0       0.515874   \n",
       "1              0.0             1.0                  0.0       0.672619   \n",
       "2              0.0             1.0                  0.0       0.841110   \n",
       "3              1.0             1.0                  1.0       0.900277   \n",
       "4              0.0             1.0                  0.0       0.596403   \n",
       "\n",
       "   age_of_car  age_of_policyholder  area_cluster  segment  airbags  \\\n",
       "0        0.05             0.644231           0.0      0.0      2.0   \n",
       "1        0.02             0.375000           1.0      0.0      2.0   \n",
       "2        0.02             0.384615           2.0      0.0      2.0   \n",
       "3        0.11             0.432692           3.0      1.0      2.0   \n",
       "4        0.11             0.634615           4.0      0.0      2.0   \n",
       "\n",
       "   is_parking_sensors  is_parking_camera  is_claim  \n",
       "0                 1.0                0.0       0.0  \n",
       "1                 1.0                0.0       0.0  \n",
       "2                 1.0                0.0       0.0  \n",
       "3                 1.0                1.0       0.0  \n",
       "4                 0.0                1.0       0.0  "
      ]
     },
     "execution_count": 101,
     "metadata": {},
     "output_type": "execute_result"
    }
   ],
   "source": [
    "# data preprocissing\n",
    "\n",
    "\n",
    "\n",
    "df_train.head()"
   ]
  },
  {
   "cell_type": "markdown",
   "id": "27f83418",
   "metadata": {},
   "source": [
    "## Model preparation"
   ]
  },
  {
   "cell_type": "code",
   "execution_count": 105,
   "id": "40ec7ccb",
   "metadata": {},
   "outputs": [],
   "source": [
    "y = df_train[\"is_claim\"]\n",
    "X = df_train.drop('is_claim',axis=1)\n",
    "X_train, X_test, y_train, y_test = train_test_split(X, y, test_size=0.20, random_state = 0)"
   ]
  },
  {
   "cell_type": "code",
   "execution_count": 106,
   "id": "37728428",
   "metadata": {},
   "outputs": [
    {
     "name": "stdout",
     "output_type": "stream",
     "text": [
      "[0. 1.]\n"
     ]
    },
    {
     "data": {
      "text/plain": [
       "Counter({0.0: 43832, 1.0: 3041})"
      ]
     },
     "execution_count": 106,
     "metadata": {},
     "output_type": "execute_result"
    }
   ],
   "source": [
    "print(y_test.unique())\n",
    "Counter(y_train)"
   ]
  },
  {
   "cell_type": "code",
   "execution_count": 107,
   "id": "3d600339",
   "metadata": {},
   "outputs": [
    {
     "name": "stdout",
     "output_type": "stream",
     "text": [
      "confussion matrix\n",
      "[[11012     0]\n",
      " [  707     0]]\n",
      "\n",
      "\n",
      "Accuracy of Logistic Regression: 93.96706203600989 \n",
      "\n",
      "              precision    recall  f1-score   support\n",
      "\n",
      "         0.0       0.94      1.00      0.97     11012\n",
      "         1.0       0.00      0.00      0.00       707\n",
      "\n",
      "    accuracy                           0.94     11719\n",
      "   macro avg       0.47      0.50      0.48     11719\n",
      "weighted avg       0.88      0.94      0.91     11719\n",
      "\n"
     ]
    },
    {
     "name": "stderr",
     "output_type": "stream",
     "text": [
      "C:\\Users\\punee\\anaconda3\\lib\\site-packages\\sklearn\\linear_model\\_logistic.py:763: ConvergenceWarning: lbfgs failed to converge (status=1):\n",
      "STOP: TOTAL NO. of ITERATIONS REACHED LIMIT.\n",
      "\n",
      "Increase the number of iterations (max_iter) or scale the data as shown in:\n",
      "    https://scikit-learn.org/stable/modules/preprocessing.html\n",
      "Please also refer to the documentation for alternative solver options:\n",
      "    https://scikit-learn.org/stable/modules/linear_model.html#logistic-regression\n",
      "  n_iter_i = _check_optimize_result(\n",
      "C:\\Users\\punee\\anaconda3\\lib\\site-packages\\sklearn\\metrics\\_classification.py:1248: UndefinedMetricWarning: Precision and F-score are ill-defined and being set to 0.0 in labels with no predicted samples. Use `zero_division` parameter to control this behavior.\n",
      "  _warn_prf(average, modifier, msg_start, len(result))\n",
      "C:\\Users\\punee\\anaconda3\\lib\\site-packages\\sklearn\\metrics\\_classification.py:1248: UndefinedMetricWarning: Precision and F-score are ill-defined and being set to 0.0 in labels with no predicted samples. Use `zero_division` parameter to control this behavior.\n",
      "  _warn_prf(average, modifier, msg_start, len(result))\n",
      "C:\\Users\\punee\\anaconda3\\lib\\site-packages\\sklearn\\metrics\\_classification.py:1248: UndefinedMetricWarning: Precision and F-score are ill-defined and being set to 0.0 in labels with no predicted samples. Use `zero_division` parameter to control this behavior.\n",
      "  _warn_prf(average, modifier, msg_start, len(result))\n"
     ]
    }
   ],
   "source": [
    "## \n",
    "\n",
    "m1 = 'Logistic Regression'\n",
    "lr = LogisticRegression()\n",
    "model = lr.fit(X_train, y_train)\n",
    "lr_predict = lr.predict(X_test)\n",
    "lr_conf_matrix = confusion_matrix(y_test, lr_predict)\n",
    "lr_acc_score = accuracy_score(y_test, lr_predict)\n",
    "print(\"confussion matrix\")\n",
    "print(lr_conf_matrix)\n",
    "print(\"\\n\")\n",
    "print(\"Accuracy of Logistic Regression:\",lr_acc_score*100,'\\n')\n",
    "print(classification_report(y_test,lr_predict))"
   ]
  },
  {
   "cell_type": "code",
   "execution_count": 108,
   "id": "a45ec145",
   "metadata": {},
   "outputs": [
    {
     "name": "stdout",
     "output_type": "stream",
     "text": [
      "confussion matrix\n",
      "[[11012     0]\n",
      " [  707     0]]\n",
      "\n",
      "\n",
      "Accuracy of Extreme Gradient Boost: 93.96706203600989 \n",
      "\n",
      "              precision    recall  f1-score   support\n",
      "\n",
      "         0.0       0.94      1.00      0.97     11012\n",
      "         1.0       0.00      0.00      0.00       707\n",
      "\n",
      "    accuracy                           0.94     11719\n",
      "   macro avg       0.47      0.50      0.48     11719\n",
      "weighted avg       0.88      0.94      0.91     11719\n",
      "\n"
     ]
    },
    {
     "name": "stderr",
     "output_type": "stream",
     "text": [
      "C:\\Users\\punee\\anaconda3\\lib\\site-packages\\sklearn\\metrics\\_classification.py:1248: UndefinedMetricWarning: Precision and F-score are ill-defined and being set to 0.0 in labels with no predicted samples. Use `zero_division` parameter to control this behavior.\n",
      "  _warn_prf(average, modifier, msg_start, len(result))\n",
      "C:\\Users\\punee\\anaconda3\\lib\\site-packages\\sklearn\\metrics\\_classification.py:1248: UndefinedMetricWarning: Precision and F-score are ill-defined and being set to 0.0 in labels with no predicted samples. Use `zero_division` parameter to control this behavior.\n",
      "  _warn_prf(average, modifier, msg_start, len(result))\n",
      "C:\\Users\\punee\\anaconda3\\lib\\site-packages\\sklearn\\metrics\\_classification.py:1248: UndefinedMetricWarning: Precision and F-score are ill-defined and being set to 0.0 in labels with no predicted samples. Use `zero_division` parameter to control this behavior.\n",
      "  _warn_prf(average, modifier, msg_start, len(result))\n"
     ]
    }
   ],
   "source": [
    "## XG BOOST\n",
    "\n",
    "m4 = 'Extreme Gradient Boost'\n",
    "xgb = XGBClassifier(learning_rate=0.01, n_estimators=25, max_depth=15,gamma=0.6, subsample=0.52,colsample_bytree=0.6,seed=27, \n",
    "                    reg_lambda=2, booster='dart', colsample_bylevel=0.6, colsample_bynode=0.5)\n",
    "xgb.fit(X_train, y_train)\n",
    "xgb_predicted = xgb.predict(X_test)\n",
    "xgb_conf_matrix = confusion_matrix(y_test, xgb_predicted)\n",
    "xgb_acc_score = accuracy_score(y_test, xgb_predicted)\n",
    "print(\"confussion matrix\")\n",
    "print(xgb_conf_matrix)\n",
    "print(\"\\n\")\n",
    "print(\"Accuracy of Extreme Gradient Boost:\",xgb_acc_score*100,'\\n')\n",
    "print(classification_report(y_test,xgb_predicted))"
   ]
  },
  {
   "cell_type": "code",
   "execution_count": 109,
   "id": "cbe76933",
   "metadata": {},
   "outputs": [],
   "source": [
    "\n",
    "    \n",
    "df_sample_sub[\"is_claim\"] =  xgb.predict(df_test)"
   ]
  },
  {
   "cell_type": "code",
   "execution_count": 110,
   "id": "5d4892fc",
   "metadata": {},
   "outputs": [],
   "source": [
    "df_sample_sub.to_csv(\"submission.csv\", index=False)"
   ]
  },
  {
   "cell_type": "code",
   "execution_count": null,
   "id": "15fc8d2d",
   "metadata": {},
   "outputs": [],
   "source": []
  }
 ],
 "metadata": {
  "kernelspec": {
   "display_name": "Python 3 (ipykernel)",
   "language": "python",
   "name": "python3"
  },
  "language_info": {
   "codemirror_mode": {
    "name": "ipython",
    "version": 3
   },
   "file_extension": ".py",
   "mimetype": "text/x-python",
   "name": "python",
   "nbconvert_exporter": "python",
   "pygments_lexer": "ipython3",
   "version": "3.9.7"
  }
 },
 "nbformat": 4,
 "nbformat_minor": 5
}
